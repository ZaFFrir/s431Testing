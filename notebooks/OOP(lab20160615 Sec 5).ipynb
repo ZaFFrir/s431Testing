{
 "cells": [
  {
   "cell_type": "code",
   "execution_count": 3,
   "metadata": {
    "collapsed": false
   },
   "outputs": [
    {
     "data": {
      "text/plain": [
       "767674"
      ]
     },
     "execution_count": 3,
     "metadata": {},
     "output_type": "execute_result"
    }
   ],
   "source": [
    "from random import randint\n",
    "r = randint(1,999999)\n",
    "r"
   ]
  },
  {
   "cell_type": "code",
   "execution_count": 5,
   "metadata": {
    "collapsed": false
   },
   "outputs": [],
   "source": [
    "from random import randint\n",
    "class Dice(object):\n",
    "        face = 1\n",
    "        def _init_(self):\n",
    "            self.face = randint(1,6)\n",
    "        def roll(self):\n",
    "            self.face = randint(1,6)"
   ]
  },
  {
   "cell_type": "code",
   "execution_count": 9,
   "metadata": {
    "collapsed": false
   },
   "outputs": [
    {
     "name": "stdout",
     "output_type": "stream",
     "text": [
      "<__main__.Dice object at 0x7f522c76c390> <__main__.Dice object at 0x7f522c76c3c8>\n"
     ]
    }
   ],
   "source": [
    "d1 = Dice()\n",
    "d2 = Dice()\n",
    "print(d1,d2)"
   ]
  },
  {
   "cell_type": "code",
   "execution_count": 11,
   "metadata": {
    "collapsed": false
   },
   "outputs": [
    {
     "data": {
      "text/plain": [
       "1"
      ]
     },
     "execution_count": 11,
     "metadata": {},
     "output_type": "execute_result"
    }
   ],
   "source": [
    "d1.roll\n",
    "d1.face"
   ]
  },
  {
   "cell_type": "code",
   "execution_count": 21,
   "metadata": {
    "collapsed": false
   },
   "outputs": [],
   "source": [
    "def Hi_or_Lo(d1,d2):\n",
    "    total = d1.face + d2.face\n",
    "    \n",
    "    if total >= 9:\n",
    "        result = \"Hi\"\n",
    "    else:\n",
    "        result = \"Lo\"\n",
    "    return result"
   ]
  },
  {
   "cell_type": "code",
   "execution_count": 22,
   "metadata": {
    "collapsed": false
   },
   "outputs": [
    {
     "data": {
      "text/plain": [
       "'Lo'"
      ]
     },
     "execution_count": 22,
     "metadata": {},
     "output_type": "execute_result"
    }
   ],
   "source": [
    "Hi_or_Lo(d1,d2)"
   ]
  },
  {
   "cell_type": "code",
   "execution_count": 23,
   "metadata": {
    "collapsed": false
   },
   "outputs": [
    {
     "data": {
      "text/plain": [
       "'Lo'"
      ]
     },
     "execution_count": 23,
     "metadata": {},
     "output_type": "execute_result"
    }
   ],
   "source": [
    "Hi_or_Lo(d1,d2)"
   ]
  },
  {
   "cell_type": "code",
   "execution_count": 38,
   "metadata": {
    "collapsed": false
   },
   "outputs": [],
   "source": [
    "from random import randint\n",
    "class Dice3(object):\n",
    "    def __init__(self):\n",
    "        self.__set__face()\n",
    "    def roll(self):\n",
    "        self.__set__face()\n",
    "        \n",
    "    #private method_set_face()\n",
    "    def __set__face(self):\n",
    "        self.__face = randint(1,6)\n",
    "        \n",
    "    def face(self):\n",
    "        return self.__face"
   ]
  },
  {
   "cell_type": "code",
   "execution_count": 40,
   "metadata": {
    "collapsed": false
   },
   "outputs": [
    {
     "data": {
      "text/plain": [
       "3"
      ]
     },
     "execution_count": 40,
     "metadata": {},
     "output_type": "execute_result"
    }
   ],
   "source": [
    "d1 = Dice3()\n",
    "d2 = Dice3()\n",
    "d1.face()"
   ]
  },
  {
   "cell_type": "code",
   "execution_count": 41,
   "metadata": {
    "collapsed": false
   },
   "outputs": [
    {
     "name": "stdout",
     "output_type": "stream",
     "text": [
      "Dice 1:3 .Dice 2:5\n"
     ]
    }
   ],
   "source": [
    "print(\"Dice 1:{} .Dice 2:{}\".format( d1.face(),d2.face() ))"
   ]
  },
  {
   "cell_type": "code",
   "execution_count": 44,
   "metadata": {
    "collapsed": false
   },
   "outputs": [],
   "source": [
    "class HiLo(object):\n",
    "    __d1 = Dice3()\n",
    "    __d2 = Dice3()\n",
    "    def __init__(self):\n",
    "        self.__d1.roll()\n",
    "        self.__d2.roll()\n",
    "    def __repr__(self):\n",
    "        print(\"Dice 1 :{}, Dice2:{}\".format( self.__d1.face(),self.__d2.face() ))"
   ]
  },
  {
   "cell_type": "code",
   "execution_count": null,
   "metadata": {
    "collapsed": true
   },
   "outputs": [],
   "source": []
  }
 ],
 "metadata": {
  "kernelspec": {
   "display_name": "Python 3",
   "language": "python",
   "name": "python3"
  },
  "language_info": {
   "codemirror_mode": {
    "name": "ipython",
    "version": 3
   },
   "file_extension": ".py",
   "mimetype": "text/x-python",
   "name": "python",
   "nbconvert_exporter": "python",
   "pygments_lexer": "ipython3",
   "version": "3.4.4"
  }
 },
 "nbformat": 4,
 "nbformat_minor": 0
}
