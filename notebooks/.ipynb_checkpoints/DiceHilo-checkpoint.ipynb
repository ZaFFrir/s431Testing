{
 "cells": [
  {
   "cell_type": "code",
   "execution_count": 1,
   "metadata": {
    "collapsed": true
   },
   "outputs": [],
   "source": [
    "images = ['images/d0.png','images/d1.png','images/d2.png','images/d3.png','images/d4.png','images/d5.png','images/d6.png']"
   ]
  },
  {
   "cell_type": "code",
   "execution_count": 2,
   "metadata": {
    "collapsed": false
   },
   "outputs": [
    {
     "data": {
      "image/png": "[encoded data removed]",
      "text/plain": [
       "<IPython.core.display.Image object>"
      ]
     },
     "execution_count": 2,
     "metadata": {},
     "output_type": "execute_result"
    }
   ],
   "source": [
    "from IPython.display import Image\n",
    "Image(filename = images[2])"
   ]
  },
  {
   "cell_type": "code",
   "execution_count": 9,
   "metadata": {
    "collapsed": false
   },
   "outputs": [
    {
     "data": {
      "text/html": [
       "<img style='width: 50px; margin:0px; float: left; border: 1px solid black;' src='images/d0.png'/><img style='width: 50px; margin:0px; float: left; border: 1px solid black;' src='images/d1.png'/><img style='width: 50px; margin:0px; float: left; border: 1px solid black;' src='images/d2.png'/><img style='width: 50px; margin:0px; float: left; border: 1px solid black;' src='images/d3.png'/><img style='width: 50px; margin:0px; float: left; border: 1px solid black;' src='images/d4.png'/><img style='width: 50px; margin:0px; float: left; border: 1px solid black;' src='images/d5.png'/><img style='width: 50px; margin:0px; float: left; border: 1px solid black;' src='images/d6.png'/>"
      ],
      "text/plain": [
       "<IPython.core.display.HTML object>"
      ]
     },
     "metadata": {},
     "output_type": "display_data"
    }
   ],
   "source": [
    "from IPython.display import HTML,display\n",
    "html_string=\"<img style='width: 50px; margin:0px; float: left; \\\n",
    "border: 1px solid black;' src='{}'/>\"\n",
    "imageList = [html_string.format(str(s))for s in images]\n",
    "\n",
    "diceImagesList=''.join(imageList)\n",
    "display(HTML(diceImagesList))"
   ]
  },
  {
   "cell_type": "code",
   "execution_count": 18,
   "metadata": {
    "collapsed": true
   },
   "outputs": [],
   "source": [
    "from random import randint\n",
    "class Dice(object):\n",
    "    def __init_(self):\n",
    "        self.__face = randint(1,6)\n",
    "    def roll(self):\n",
    "        self.__face = randint(1,6)\n",
    "        \n",
    "    @property\n",
    "    def face(self):\n",
    "        return self.__face"
   ]
  },
  {
   "cell_type": "code",
   "execution_count": 19,
   "metadata": {
    "collapsed": false
   },
   "outputs": [
    {
     "data": {
      "image/png": "[encoded data removed]",
      "text/plain": [
       "<IPython.core.display.Image object>"
      ]
     },
     "execution_count": 19,
     "metadata": {},
     "output_type": "execute_result"
    }
   ],
   "source": [
    "d = Dice()\n",
    "d.roll()\n",
    "Image(filename=images[d.face])"
   ]
  },
  {
   "cell_type": "code",
   "execution_count": 22,
   "metadata": {
    "collapsed": false
   },
   "outputs": [],
   "source": [
    "class Hilo(object):\n",
    "    __d1 = Dice()\n",
    "    __d2 = Dice()\n",
    "    \n",
    "    def __init__(self):\n",
    "        self.__d1.roll()\n",
    "        self.__d2.roll()\n",
    "        \n",
    "    def roll(self):\n",
    "        self.__d1.roll()\n",
    "        self.__d2.roll()\n",
    "    def dice_faces(self):\n",
    "        return[images[self.__d1.face],images[self.__d2.face]]\n",
    "    \n",
    "    def __repr__(self):\n",
    "        return(\"Dice 1: {},Dice 2:{}\".format(self.__d1.face,self.__d2.face))"
   ]
  },
  {
   "cell_type": "code",
   "execution_count": 23,
   "metadata": {
    "collapsed": true
   },
   "outputs": [],
   "source": [
    "def showDices(image_list):\n",
    "    html_string = \"<img style='width: 80px; margin: 0px;float: left; border: 1px solid black;' src='{}'/>\"\n",
    "    diceImagesList = ''.join([html_string.format(str(s)) for s in image_list])\n",
    "    display(HTML(diceImagesList))"
   ]
  },
  {
   "cell_type": "code",
   "execution_count": 24,
   "metadata": {
    "collapsed": false
   },
   "outputs": [
    {
     "data": {
      "text/plain": [
       "Dice 1: 5,Dice 2:3"
      ]
     },
     "execution_count": 24,
     "metadata": {},
     "output_type": "execute_result"
    }
   ],
   "source": [
    "h = Hilo()\n",
    "h"
   ]
  },
  {
   "cell_type": "code",
   "execution_count": 25,
   "metadata": {
    "collapsed": false
   },
   "outputs": [
    {
     "data": {
      "text/html": [
       "<img style='width: 80px; margin: 0px;float: left; border: 1px solid black;' src='images/d5.png'/><img style='width: 80px; margin: 0px;float: left; border: 1px solid black;' src='images/d3.png'/>"
      ],
      "text/plain": [
       "<IPython.core.display.HTML object>"
      ]
     },
     "metadata": {},
     "output_type": "display_data"
    }
   ],
   "source": [
    "showDices(h.dice_faces())"
   ]
  },
  {
   "cell_type": "code",
   "execution_count": null,
   "metadata": {
    "collapsed": true
   },
   "outputs": [],
   "source": []
  }
 ],
 "metadata": {
  "kernelspec": {
   "display_name": "Python 3",
   "language": "python",
   "name": "python3"
  },
  "language_info": {
   "codemirror_mode": {
    "name": "ipython",
    "version": 3
   },
   "file_extension": ".py",
   "mimetype": "text/x-python",
   "name": "python",
   "nbconvert_exporter": "python",
   "pygments_lexer": "ipython3",
   "version": "3.4.4"
  }
 },
 "nbformat": 4,
 "nbformat_minor": 0
}
